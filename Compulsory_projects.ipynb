{
  "nbformat": 4,
  "nbformat_minor": 0,
  "metadata": {
    "colab": {
      "provenance": [],
      "authorship_tag": "ABX9TyPYyaxgz9GUdo0FdttH3IXC",
      "include_colab_link": true
    },
    "kernelspec": {
      "name": "python3",
      "display_name": "Python 3"
    },
    "language_info": {
      "name": "python"
    }
  },
  "cells": [
    {
      "cell_type": "markdown",
      "metadata": {
        "id": "view-in-github",
        "colab_type": "text"
      },
      "source": [
        "<a href=\"https://colab.research.google.com/github/Shuzaifa12/Compulsory-Projects/blob/main/Compulsory_projects.ipynb\" target=\"_parent\"><img src=\"https://colab.research.google.com/assets/colab-badge.svg\" alt=\"Open In Colab\"/></a>"
      ]
    },
    {
      "cell_type": "markdown",
      "source": [
        "**MAD LIB PROJECT**"
      ],
      "metadata": {
        "id": "TJk_vbIdgQSn"
      }
    },
    {
      "cell_type": "code",
      "execution_count": 5,
      "metadata": {
        "colab": {
          "base_uri": "https://localhost:8080/"
        },
        "id": "Yd-QpA4hdnSc",
        "outputId": "d3d2bdcb-7eaf-4eac-a986-fa1598983707"
      },
      "outputs": [
        {
          "output_type": "stream",
          "name": "stdout",
          "text": [
            "** Welcome To Mad Lib Story **\n",
            "Enter a Name : Huzaifa\n",
            "Enter a Place : zoo\n",
            "Enter an Animal : giraffe\n",
            "Enter an Emotion : excited\n",
            "Enter a verb ending with --ing : dancing\n",
            "\n",
            "\n",
            "Here's your madlib story\n",
            "\n",
            "\n",
            "One day, Huzaifa went to zoo and saw a giraffe. It was dancing and looked very excited. Huzaifa couldn't believe his eyes!\n"
          ]
        }
      ],
      "source": [
        "# Title\n",
        "print(\"** Welcome To Mad Lib Story **\")\n",
        "\n",
        "# User Input\n",
        "name : str = str(input(\"Enter a Name : \"))\n",
        "place : str = str(input(\"Enter a Place : \"))\n",
        "animal : str = str(input(\"Enter an Animal : \"))\n",
        "emotion : str = str(input(\"Enter an Emotion : \"))\n",
        "verb : str = str(input(\"Enter a verb ending with --ing : \"))\n",
        "\n",
        "# Function\n",
        "def MadLibGame():\n",
        "  print(\"\\n\")\n",
        "  print(\"Here's your madlib story\")\n",
        "  print(\"\\n\")\n",
        "  story = f\"\"\"One day, {name} went to {place} and saw a {animal}. It was {verb} and looked very {emotion}. {name} couldn't believe his eyes!\"\"\"\n",
        "  print(story)\n",
        "\n",
        "if __name__ == '__main__':\n",
        "  MadLibGame()\n"
      ]
    },
    {
      "cell_type": "markdown",
      "source": [
        "**NUMBER GUESSING GAME (COMPUTER)**"
      ],
      "metadata": {
        "id": "nRrmgEQCkFqy"
      }
    },
    {
      "cell_type": "code",
      "source": [
        "# Importing random module to generate random values from the computer\n",
        "import random\n",
        "\n",
        "print(\"** WELCOME TO NUMBER GUESSING GAME **\")\n",
        "# default value\n",
        "default_value : int = 18\n",
        "\n",
        "# Computer random value\n",
        "computer_value : int = random.randint(1,20)\n",
        "\n",
        "# Conditions\n",
        "if default_value == computer_value:\n",
        "  print(f\"Default Value : {default_value}\")\n",
        "  print(f\"Computer Value : {computer_value}\")\n",
        "  print(\"Congratulations ! Computer value matches the default value.\")\n",
        "elif default_value > computer_value:\n",
        "  print(f\"Default Value : {default_value}\")\n",
        "  print(f\"Computer Value : {computer_value}\")\n",
        "  print(\"The default value is greater than computer value.\")\n",
        "else:\n",
        "  print(f\"Default Value : {default_value}\")\n",
        "  print(f\"Computer Value : {computer_value}\")\n",
        "  print(\"The computer value is greater than the default value.\")"
      ],
      "metadata": {
        "colab": {
          "base_uri": "https://localhost:8080/"
        },
        "id": "kz56iyh5kNW9",
        "outputId": "d2893366-d83e-42e8-ccf5-00a8d3fb6590"
      },
      "execution_count": 14,
      "outputs": [
        {
          "output_type": "stream",
          "name": "stdout",
          "text": [
            "Default Value : 18\n",
            "Computer Value : 18\n",
            "Congratulations ! Computer value matches the default value.\n"
          ]
        }
      ]
    },
    {
      "cell_type": "markdown",
      "source": [
        "**NUMBER GUESSING GAME (USER)**"
      ],
      "metadata": {
        "id": "6vbr2rGFl0d4"
      }
    },
    {
      "cell_type": "code",
      "source": [
        "import random\n",
        "\n",
        "print(\"** WELCOME TO NUMBER GUESSING GAME **\")\n",
        "user_value : int = int(input(\"Enter a value between 1 and 20 : \"))\n",
        "computer_value : int = random.randint(1,20)\n",
        "\n",
        "# Conditions\n",
        "if user_value == computer_value:\n",
        "  print(f\"User Value : {user_value}\")\n",
        "  print(f\"Computer Value : {computer_value}\")\n",
        "  print(\"Congratulations ! Computer value matches the default value.\")\n",
        "elif user_value > computer_value:\n",
        "  print(f\"User Value : {user_value}\")\n",
        "  print(f\"Computer Value : {computer_value}\")\n",
        "  print(\"The default value is greater than computer value.\")\n",
        "else:\n",
        "  print(f\"User Value : {user_value}\")\n",
        "  print(f\"Computer Value : {computer_value}\")\n",
        "  print(\"The computer value is greater than the default value.\")"
      ],
      "metadata": {
        "colab": {
          "base_uri": "https://localhost:8080/"
        },
        "id": "KkmwQGFEl6Io",
        "outputId": "4f70ec93-91f4-4d79-c10c-f6bf6e54f326"
      },
      "execution_count": 17,
      "outputs": [
        {
          "output_type": "stream",
          "name": "stdout",
          "text": [
            "Enter a value between 1 and 20 : 10\n",
            "User Value : 10\n",
            "Computer Value : 19\n",
            "The computer value is greater than the default value.\n"
          ]
        }
      ]
    },
    {
      "cell_type": "markdown",
      "source": [
        "**ROCK, PAPER, SCISSOR GAME**"
      ],
      "metadata": {
        "id": "6y3iiv_xm4jz"
      }
    },
    {
      "cell_type": "code",
      "source": [
        "import random\n",
        "\n",
        "print(\"** WELCOME TO ROCK, PAPER, SCISSOR GAME **\")\n",
        "\n",
        "user_input : str = str(input(\"Enter your Choice between rock, paper and scissor : \")).lower()\n",
        "comp_choice = random.choice([\"Rock\", \"Paper\", \"Scissor\"]).lower()\n",
        "\n",
        "if user_input == comp_choice:\n",
        "  print(f\"User Choice = {user_input}\")\n",
        "  print(f\"Computer Choice = {comp_choice}\")\n",
        "  print(\"It's a Tie.\")\n",
        "elif user_input== \"scissor\" and comp_choice == \"paper\" or user_input == \"paper\" and comp_choice == \"rock\" or user_input == \"rock\" and comp_choice == \"scissor\":\n",
        "  print(f\"User Choice = {user_input}\")\n",
        "  print(f\"Computer Choice = {comp_choice}\")\n",
        "  print(\"Congratulations ! You Win.\")\n",
        "else:\n",
        "  print(f\"User Choice = {user_input}\")\n",
        "  print(f\"Computer Choice = {comp_choice}\")\n",
        "  print(\"Computer Wins.\")"
      ],
      "metadata": {
        "colab": {
          "base_uri": "https://localhost:8080/"
        },
        "id": "-FpWY-UJm8fG",
        "outputId": "e705d096-e627-4e48-bd26-39b60cb2d169"
      },
      "execution_count": 38,
      "outputs": [
        {
          "output_type": "stream",
          "name": "stdout",
          "text": [
            "** WELCOME TO ROCK, PAPER, SCISSOR GAME **\n",
            "Enter your Choice between rock, paper and scissor : PAPER\n",
            "User Choice = paper\n",
            "Computer Choice = scissor\n",
            "Computer Wins.\n"
          ]
        }
      ]
    },
    {
      "cell_type": "markdown",
      "source": [
        "**HANGMAN: (GUESS THE WORD GAME)**"
      ],
      "metadata": {
        "id": "U4hBlA2xszG-"
      }
    },
    {
      "cell_type": "code",
      "source": [
        "import random\n",
        "\n",
        "print(\"\"\"\n",
        "WELCOME TO HANGMAN GAME.\n",
        "GUESS THE WORD !\n",
        "\"\"\")\n",
        "\n",
        "# Animal List:\n",
        "words : list = [\"cat\", \"rabbit\", \"lion\", \"tiger\", \"buffalo\", \"giraffe\", \"zebra\", \"frog\", \"camel\"]\n",
        "\n",
        "# Computer choice from the list:\n",
        "computer_choice = random.choice(words)\n",
        "\n",
        "# empty dashes multiply with the computer choice word:\n",
        "guess_words = [\"__\"] * len(computer_choice)\n",
        "\n",
        "# total attempts is according to the computer choice word:\n",
        "total_attempts = len(guess_words)\n",
        "\n",
        "print(\"Total words : \", total_attempts)\n",
        "\n",
        "# Condition\n",
        "while total_attempts > 0:\n",
        "    print(\"\\nWord : \", \" \".join(guess_words), \"\\n\")\n",
        "    guess = input(\"Guess a letter: \").lower()\n",
        "\n",
        "    if guess in computer_choice:\n",
        "        for i in range(len(computer_choice)):\n",
        "            if words[i] == guess:\n",
        "                guess_words[i] = guess\n",
        "        print(\"Correct!\")\n",
        "        total_attempts -= 1\n",
        "    else:\n",
        "      print(f\"Wrong! Game Over. The word is : {computer_choice}\")\n",
        "      break\n",
        "print(\"\\nCongralutaions ! You guessed the correct word : \", computer_choice)\n"
      ],
      "metadata": {
        "colab": {
          "base_uri": "https://localhost:8080/"
        },
        "id": "P7H5PlnYs7e_",
        "outputId": "4f2f8f31-1d59-4c77-a671-b92ad61c8556"
      },
      "execution_count": 75,
      "outputs": [
        {
          "output_type": "stream",
          "name": "stdout",
          "text": [
            "\n",
            "WELCOME TO HANGMAN GAME.\n",
            "GUESS THE WORD !\n",
            "\n",
            "4\n",
            "\n",
            "Word :  __ __ __ __ \n",
            "\n",
            "Guess a letter: f\n",
            "Correct!\n",
            "\n",
            "Word :  __ __ __ __ \n",
            "\n",
            "Guess a letter: r\n",
            "Correct!\n",
            "\n",
            "Word :  __ __ __ __ \n",
            "\n",
            "Guess a letter: o\n",
            "Correct!\n",
            "\n",
            "Word :  __ __ __ __ \n",
            "\n",
            "Guess a letter: g\n",
            "Correct!\n",
            "Congralutaions ! You guessed the correct word :  frog\n"
          ]
        }
      ]
    },
    {
      "cell_type": "markdown",
      "source": [
        "**COUNTDOWN TIMER**"
      ],
      "metadata": {
        "id": "iS0b0ePmFuof"
      }
    },
    {
      "cell_type": "code",
      "source": [
        "# For timer importing time module\n",
        "import time\n",
        "\n",
        "seconds :int = int(input(\"Enter seconds from where the count down timer should starts : \"))\n",
        "\n",
        "while seconds >= 0:\n",
        "  print(seconds)\n",
        "  time.sleep(1)\n",
        "  seconds -=1\n",
        "\n",
        "print(\"Times Up !\")"
      ],
      "metadata": {
        "colab": {
          "base_uri": "https://localhost:8080/"
        },
        "id": "4kzOyyQKFzKn",
        "outputId": "188c4e90-cbba-4e77-fce0-19baae045d29"
      },
      "execution_count": 78,
      "outputs": [
        {
          "output_type": "stream",
          "name": "stdout",
          "text": [
            "Enter seconds from where the count down timer should starts : 20\n",
            "20\n",
            "19\n",
            "18\n",
            "17\n",
            "16\n",
            "15\n",
            "14\n",
            "13\n",
            "12\n",
            "11\n",
            "10\n",
            "9\n",
            "8\n",
            "7\n",
            "6\n",
            "5\n",
            "4\n",
            "3\n",
            "2\n",
            "1\n",
            "0\n",
            "Times Up !\n"
          ]
        }
      ]
    },
    {
      "cell_type": "markdown",
      "source": [
        "**PASSWORD GENERATOR**"
      ],
      "metadata": {
        "id": "8JyQq3zKG528"
      }
    },
    {
      "cell_type": "code",
      "source": [
        "import random\n",
        "import string\n",
        "\n",
        "length : int = int(input(\"Enter the length of the password you want to generate : \"))\n",
        "\n",
        "# Define character sets\n",
        "characters = string.ascii_letters\n",
        "digits = string.digits\n",
        "symbols = string.punctuation\n",
        "\n",
        "all_elements = characters + digits + symbols\n",
        "\n",
        "password = \"\".join(random.sample(all_elements,length))\n",
        "print(\"Generated Password = \" , password)"
      ],
      "metadata": {
        "colab": {
          "base_uri": "https://localhost:8080/"
        },
        "id": "s52w_LprG9AU",
        "outputId": "7846bb23-dbb8-4c03-f0c4-dd9dc12ab935"
      },
      "execution_count": 97,
      "outputs": [
        {
          "output_type": "stream",
          "name": "stdout",
          "text": [
            "Enter the length of the password you want to generate : 9\n",
            "Generated Password =  Mbf#e<`]c\n"
          ]
        }
      ]
    },
    {
      "cell_type": "markdown",
      "source": [
        "**BMI CALCULATOR**"
      ],
      "metadata": {
        "id": "WIjyRn0BQxIx"
      }
    },
    {
      "cell_type": "code",
      "source": [
        "print(\"** WELCOME TO BODY MASS INDEX CALCULATOR **\")\n",
        "\n",
        "mass : float = float(input(\"Enter the value of mass in Kilograms : \"))\n",
        "height : float = float(input(\"Enter the heigh in meter : \"))\n",
        "BMI : float = mass / height**2\n",
        "print(\"The calculated value for Body Mass Index is = \", BMI)"
      ],
      "metadata": {
        "colab": {
          "base_uri": "https://localhost:8080/"
        },
        "id": "1ttcjqgJQ0an",
        "outputId": "1da5df13-f494-4773-8b2c-ba7ca1cf2ea9"
      },
      "execution_count": 98,
      "outputs": [
        {
          "output_type": "stream",
          "name": "stdout",
          "text": [
            "** WELCOME TO BODY MASS INDEX CALCULATOR **\n",
            "Enter the value of mass in Kilograms : 70\n",
            "Enter the heigh in meter : 10\n",
            "The calculated value for Body Mass Index is =  0.7\n"
          ]
        }
      ]
    }
  ]
}